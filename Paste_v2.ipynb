{
 "cells": [
  {
   "cell_type": "code",
   "execution_count": 1,
   "metadata": {},
   "outputs": [],
   "source": [
    "import PIL\n",
    "from PIL import Image\n",
    "from PIL import ImageDraw\n",
    "from PIL import ImageFilter\n",
    "\n",
    "import matplotlib.pyplot as plt\n",
    "import numpy as np\n",
    "import os\n",
    "import cv2\n",
    "import random\n",
    "from pascal_voc_writer import Writer\n",
    "def RandomPaste(origin, img):\n",
    "    # Resize the pasted image\n",
    "    width, height = origin.size\n",
    "    propotion = random.uniform(0.1, 0.7)\n",
    "    img_width = int(propotion * width)\n",
    "    img_height = int(propotion * height)\n",
    "    img = img.resize((img_width, img_height), Image.ANTIALIAS)\n",
    "    \n",
    "    # Rotate the pasted image\n",
    "    rotate_angle = random.randint(0, 360)\n",
    "    img = img.rotate(rotate_angle, expand=True)\n",
    "    \n",
    "    # Crop extra edges\n",
    "    maxsize = (width / 2, height / 2)\n",
    "    img.thumbnail(maxsize, Image.ANTIALIAS)\n",
    "    imageSize = img.size\n",
    "    imageComponents = img.split()\n",
    "    rgbImage = Image.new(\"RGB\", imageSize, (0,0,0))\n",
    "    rgbImage.paste(img, mask=imageComponents[3])\n",
    "    croppedBox = rgbImage.getbbox()\n",
    "    img = img.crop(croppedBox)\n",
    "    \n",
    "    # Paste image\n",
    "    r,g,b,a = img.split()\n",
    "    img_x = int(random.uniform(0, 1) * (width - img_width))\n",
    "    img_y = int(random.uniform(0, 1) * (height - img_height))\n",
    "    origin.paste(img, (img_x, img_y), a)\n",
    "    img_width, img_height = img.size\n",
    "    \n",
    "    return (img_x, img_y, img_width, img_height)"
   ]
  },
  {
   "cell_type": "code",
   "execution_count": 2,
   "metadata": {},
   "outputs": [],
   "source": [
    "def union(a, b):\n",
    "    x = min(a[0], b[0])\n",
    "    y = min(a[1], b[1])\n",
    "    w = max(a[0] + a[2], b[0] + b[2]) - x\n",
    "    h = max(a[1] + a[3], b[1] + b[3]) - y\n",
    "    return (x, y, w, h)"
   ]
  },
  {
   "cell_type": "code",
   "execution_count": 3,
   "metadata": {},
   "outputs": [],
   "source": [
    "def intersection(a, b):\n",
    "    x = max(a[0], b[0])\n",
    "    y = max(a[1], b[1])\n",
    "    w = min(a[0] + a[2], b[0] + b[2]) - x\n",
    "    h = min(a[1] + a[3], b[1] + b[3]) - y\n",
    "    if w < 0 or h < 0: \n",
    "        return ()\n",
    "    return (x, y, w, h)"
   ]
  },
  {
   "cell_type": "code",
   "execution_count": 4,
   "metadata": {},
   "outputs": [],
   "source": [
    "def combine_boxes(boxes, new):\n",
    "    flag = False\n",
    "    for i in range(len(boxes) - 1, -1, -1):\n",
    "        if intersection(boxes[i], new):\n",
    "            flag = True\n",
    "            newbox = union(boxes[i], new)\n",
    "            boxes.remove(boxes[i])\n",
    "            combine_boxes(boxes, newbox)\n",
    "            \n",
    "    if not flag:\n",
    "        boxes.append(new)\n",
    "        \n",
    "    return boxes"
   ]
  },
  {
   "cell_type": "code",
   "execution_count": 5,
   "metadata": {},
   "outputs": [],
   "source": [
    "def generatePictures(num_pair, num_obj=None, noise_type=None, deviation=False, overlapping=False):\n",
    "    '''\n",
    "    num_pair: The number of the pairs generated\n",
    "    num_obj: The number of the objects pasted, default to 2-3\n",
    "    noise_type: The type of the noise applied to the pics, default to random\n",
    "    deviation: Whether apply deviation to the pics, default to False\n",
    "    '''\n",
    "    \n",
    "    bg_path = \"./img/background\"\n",
    "    obj_path = \"./img/object\"\n",
    "    images_path = \"./data/images\"\n",
    "    xml_path = \"./data/XML\"\n",
    "    \n",
    "    for i in range(num_pair):\n",
    "        num = i+1\n",
    "        bg_name = random.choice(os.listdir(bg_path))\n",
    "        print(bg_name)\n",
    "        background = Image.open(os.path.join(bg_path, bg_name))\n",
    "        obj = []\n",
    "        background.save(os.path.join(images_path,str(num)+'.jpg'))\n",
    "        \n",
    "        if not num_obj:\n",
    "            num_obj = random.randint(2, 3);\n",
    "        for i in range(num_obj):\n",
    "            obj.append(Image.open(os.path.join(obj_path, random.choice(os.listdir(obj_path)))))\n",
    "\n",
    "        bndbox = []\n",
    "        box_loc=[]\n",
    "        for i in obj:\n",
    "            (xmin, ymin, xoffset, yoffset) = RandomPaste(background, i)\n",
    "            box_loc.append((xmin,ymin,xoffset,yoffset))\n",
    "            bndbox = combine_boxes(bndbox, (xmin, ymin, xoffset, yoffset))\n",
    "\n",
    "        # Add noise\n",
    "        \n",
    "        # Add deviation\n",
    "\n",
    "        # Adjust Color Temperature\n",
    "\n",
    "        # Adjust Color Difference\n",
    "\n",
    "#         plt.figure(figsize=(10, 20))\n",
    "#         plt.imshow(background)\n",
    "        background.save(os.path.join(images_path,str(num)+'_A.jpg'))\n",
    "        \n",
    "        # Write box to XML\n",
    "        width, height = background.size\n",
    "        writer = Writer(str(num)+'.jpg',width,height)\n",
    "        print(box_loc)\n",
    "        for i_loc in box_loc :\n",
    "            writer.addObject('True',i_loc[0],i_loc[1],i_loc[0]+i_loc[2],i_loc[1]+i_loc[3])\n",
    "        writer.save(os.path.join(xml_path,str(num)+\".xml\"))\n",
    "        \n",
    "        # Change Bounding Box Format\n",
    "        for b in bndbox:\n",
    "            box = list(b)\n",
    "            box[2] += box[0]\n",
    "            box[3] += box[1]\n",
    "            b = tuple(box)\n",
    "            \n",
    "        # Save Pictures\n",
    "            \n",
    "        print(bndbox)"
   ]
  },
  {
   "cell_type": "code",
   "execution_count": 6,
   "metadata": {},
   "outputs": [
    {
     "name": "stdout",
     "output_type": "stream",
     "text": [
      "a\n"
     ]
    }
   ],
   "source": [
    "# generatePictures(200)\n",
    "print(\"a\")"
   ]
  },
  {
   "cell_type": "code",
   "execution_count": null,
   "metadata": {},
   "outputs": [],
   "source": []
  }
 ],
 "metadata": {
  "kernelspec": {
   "display_name": "Python 3",
   "language": "python",
   "name": "python3"
  },
  "language_info": {
   "codemirror_mode": {
    "name": "ipython",
    "version": 3
   },
   "file_extension": ".py",
   "mimetype": "text/x-python",
   "name": "python",
   "nbconvert_exporter": "python",
   "pygments_lexer": "ipython3",
   "version": "3.6.5"
  }
 },
 "nbformat": 4,
 "nbformat_minor": 2
}
